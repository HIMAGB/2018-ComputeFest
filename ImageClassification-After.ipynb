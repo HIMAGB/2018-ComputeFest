{
 "cells": [
  {
   "cell_type": "markdown",
   "metadata": {},
   "source": [
    "## Introduction to Deep Learning Image Classification using Keras\n",
    "\n",
    "#### Presented by Pavlos Protopapas, Harvard Institute for Applied Computational Science\n",
    "\n",
    "\n",
    "This workshop will cover the following topics:\n",
    "\n",
    "* [Theory about neural networks, backpropagation, optimization, etc.](#part1)\n",
    "    * [From Linear to Deep Learning](#part11)\n",
    "    * [Components of Deep Learning](#part12)\n",
    "* [Keras basics (functions, etc.)](#part2)\n",
    "    * [Keras Installation](#part21)\n",
    "    * [Keras Basic - MNIST](#part22)\n",
    "* [Fundamentals of Machine Learning](#part3) \n",
    "<!-- * [Matplotlib visualization](#part4) -->\n",
    "* [References and Where to Learning More](#references)\n"
   ]
  },
  {
   "cell_type": "markdown",
   "metadata": {},
   "source": [
    "<a id='part1'></a>\n",
    "## Part 1 - Theory about Neural Networks"
   ]
  },
  {
   "cell_type": "markdown",
   "metadata": {},
   "source": [
    "<a id='part11'></a>\n",
    "### 1.1 - From Linear to Deep Learning Models\n",
    "\n",
    "#### Beyond Linear Models\n",
    "\n",
    "Linear models can be fit efficiently via convex optimization, but the model capacity is limited.\n",
    "\n",
    "Alternative:\n",
    "$$ f(x) = w^T\\phi(x) $$\n",
    "where $\\phi$ is a *non-linear transform*\n",
    "\n",
    "A machine-learning model transforms its input data into meaningful outputs, a process that is “learned” from exposure to known examples of inputs and outputs. Therefore, the central problem in machine learning and deep learning is to meaningfully transform data: in other words, to learn useful *representations* of the input data at hand—representations that get us closer to the expected output.\n",
    "\n",
    "#### Traditional Machine Learning\n",
    "\n",
    "One option is to use a very generic $\\phi$. If $\\phi(x)$ is of high enough dimension, we can always have enough capacity to fit the training set, but generalization to the test set often remains poor. Very generic feature mappings are usually based only on the principle of local smoothness and do not encode enough prior information to solve advanced problems.\n",
    "\n",
    "Another option is to manually engineer $\\phi$. Until the advent of deep learning, this was the dominant approach. It requires decades of human eﬀort foreach separate task, with practitioners specializing in different domains, such as speech recognition or computer vision, and with little transfer between domains.\n",
    "\n",
    "#### Deep Learning\n",
    "\n",
    "Directly learn $\\phi$ with parameters $\\theta$, specifically:\n",
    "$$f(x;\\theta) = w^T\\phi(x;\\theta)$$\n",
    "\n",
    "\n",
    "We now have parameters $\\theta$ that we use to learn $\\phi$ from a broad class of functions, and parameters that map from $\\phi(x)$ to the desired output. This is an example of a deep feed-forward network, with $\\phi$ deﬁning a hidden layer. This approach is the only one of the three that gives up on the convexity of the training problem, but the beneﬁts outweigh the harms. In this approach, we parametrize the representation as $\\phi(x;\\theta)$ and use the optimization algorithm to ﬁnd the $\\theta$ that corresponds to a good representation. If we wish, this approach can capture the beneﬁt of the first approach by being highly generic—we do so by using a very broad family $\\phi(x;\\theta)$. Deep learning can also capture the beneﬁt of the second approach. Human practitioners can encode their knowledge to help generalization by designing families $\\phi(x;\\theta)$ that they expect will perform well. The advantage is that the human designer only needs to ﬁnd the right general function family rather than ﬁnding precisely the right function.\n",
    "\n",
    "![layers of representations](representations.png)\n",
    "\n",
    "The *deep* in *deep learning* isn’t a reference to any kind of deeper understanding achieved by the approach; rather, it stands for this idea of successive layers of representations. How many layers contribute to a model of the data is called the *depth* of the model. Other appropriate names for the field could have been *layered representations learning* and *hierarchical representations learning*. Modern deep learning often involves tens or even hundreds of successive layers of representations— and they’re all learned automatically from exposure to training data.\n"
   ]
  },
  {
   "cell_type": "markdown",
   "metadata": {},
   "source": [
    "<a id='part12'></a>\n",
    "### 1.2 - Components of Deep Learning\n",
    "\n",
    "To do machine learning, we need three things:\n",
    "* **Input** data points—For instance, if the task is speech recognition, these data points could be sound files of people speaking. If the task is image tagging, they could be pictures.\n",
    "* Examples of the expected **output** —In a speech-recognition task, these could be human-generated transcripts of sound files. In an image task, expected outputs could be tags such as “dog,” “cat,” and so on.\n",
    "* A **cost (or loss) function** which is a way to measure whether the algorithm is doing a good job. This is necessary in order to determine the distance between the algorithm’s current output and its expected output. The measurement is used as a feedback signal to adjust the way the algorithm works. This adjustment step is what we call *learning*.\n",
    "\n",
    "![components of deep learning](components.png)\n",
    "\n",
    "\n"
   ]
  },
  {
   "cell_type": "markdown",
   "metadata": {},
   "source": [
    "<a id='part2'></a>\n",
    "## Part 2 - Keras Basics"
   ]
  },
  {
   "cell_type": "markdown",
   "metadata": {},
   "source": [
    "\n",
    "<a id='part21'></a>\n",
    "### Part 2.1 - Keras Installation\n",
    "\n",
    "If you haven't already, please install Keras using the instructions found at [https://keras.io/#installation](https://keras.io/#installation)\n",
    "\n",
    "Choose the TensorFlow installation instructions (found at [https://www.tensorflow.org/install/](https://www.tensorflow.org/install/) )\n",
    "\n",
    "Note the following:\n",
    "\n",
    "* cuDNN is only required if your machine has an NVidia graphics card (GPU)\n",
    "* For this tutorial, HDF5 and h5py are not required\n",
    "* graphviz and pydot are not required"
   ]
  },
  {
   "cell_type": "markdown",
   "metadata": {},
   "source": [
    "<a id='part22'></a>\n",
    "### Part 2.2 - Keras Basics\n"
   ]
  },
  {
   "cell_type": "code",
   "execution_count": 1,
   "metadata": {},
   "outputs": [
    {
     "name": "stderr",
     "output_type": "stream",
     "text": [
      "Using TensorFlow backend.\n",
      "/Users/pavlos/anaconda3/lib/python3.6/importlib/_bootstrap.py:219: RuntimeWarning: compiletime version 3.5 of module 'tensorflow.python.framework.fast_tensor_util' does not match runtime version 3.6\n",
      "  return f(*args, **kwds)\n"
     ]
    },
    {
     "data": {
      "text/plain": [
       "'2.1.2'"
      ]
     },
     "execution_count": 1,
     "metadata": {},
     "output_type": "execute_result"
    }
   ],
   "source": [
    "import keras\n",
    "keras.__version__"
   ]
  },
  {
   "cell_type": "markdown",
   "metadata": {},
   "source": [
    "# A first look at a neural network\n",
    "\n",
    "This notebook contains the code samples found in Chapter 2, Section 1 of [Deep Learning with Python](https://www.manning.com/books/deep-learning-with-python?a_aid=keras&a_bid=76564dff). Note that the original text features far more content, in particular further explanations and figures: in this notebook, you will only find source code and related comments.\n",
    "\n",
    "----\n",
    "\n",
    "We will now take a look at a first concrete example of a neural network, which makes use of the Python library Keras to learn to classify \n",
    "hand-written digits. Unless you already have experience with Keras or similar libraries, you will not understand everything about this \n",
    "first example right away. You probably haven't even installed Keras yet. Don't worry, that is perfectly fine. In the next chapter, we will \n",
    "review each element in our example and explain them in detail. So don't worry if some steps seem arbitrary or look like magic to you! \n",
    "We've got to start somewhere.\n",
    "\n",
    "The problem we are trying to solve here is to classify grayscale images of handwritten digits (28 pixels by 28 pixels), into their 10 \n",
    "categories (0 to 9). The dataset we will use is the MNIST dataset, a classic dataset in the machine learning community, which has been \n",
    "around for almost as long as the field itself and has been very intensively studied. It's a set of 60,000 training images, plus 10,000 test \n",
    "images, assembled by the National Institute of Standards and Technology (the NIST in MNIST) in the 1980s. You can think of \"solving\" MNIST \n",
    "as the \"Hello World\" of deep learning -- it's what you do to verify that your algorithms are working as expected. As you become a machine \n",
    "learning practitioner, you will see MNIST come up over and over again, in scientific papers, blog posts, and so on.\n",
    "\n",
    "\n",
    "![MNIST digits](MNIST.png)"
   ]
  },
  {
   "cell_type": "markdown",
   "metadata": {},
   "source": [
    "The MNIST dataset comes pre-loaded in Keras, in the form of a set of four Numpy arrays:"
   ]
  },
  {
   "cell_type": "code",
   "execution_count": 53,
   "metadata": {
    "collapsed": true
   },
   "outputs": [],
   "source": [
    "from keras.datasets import mnist\n",
    "\n",
    "(train_images, train_labels), (test_images, test_labels) = mnist.load_data()"
   ]
  },
  {
   "cell_type": "markdown",
   "metadata": {},
   "source": [
    "`train_images` and `train_labels` form the \"training set\", the data that the model will learn from. The model will then be tested on the \n",
    "\"test set\", `test_images` and `test_labels`. Our images are encoded as Numpy arrays, and the labels are simply an array of digits, ranging \n",
    "from 0 to 9. There is a one-to-one correspondence between the images and the labels.\n",
    "\n",
    "Let's have a look at the training data:"
   ]
  },
  {
   "cell_type": "code",
   "execution_count": 54,
   "metadata": {},
   "outputs": [
    {
     "data": {
      "text/plain": [
       "(60000, 28, 28)"
      ]
     },
     "execution_count": 54,
     "metadata": {},
     "output_type": "execute_result"
    }
   ],
   "source": [
    "train_images.shape"
   ]
  },
  {
   "cell_type": "code",
   "execution_count": 55,
   "metadata": {},
   "outputs": [
    {
     "data": {
      "text/plain": [
       "60000"
      ]
     },
     "execution_count": 55,
     "metadata": {},
     "output_type": "execute_result"
    }
   ],
   "source": [
    "len(train_labels)"
   ]
  },
  {
   "cell_type": "code",
   "execution_count": 57,
   "metadata": {},
   "outputs": [
    {
     "data": {
      "text/plain": [
       "array([0, 1, 2, 3, 4, 5, 6, 7, 8, 9], dtype=uint8)"
      ]
     },
     "execution_count": 57,
     "metadata": {},
     "output_type": "execute_result"
    }
   ],
   "source": [
    "import numpy as np\n",
    "np.unique(train_labels)"
   ]
  },
  {
   "cell_type": "code",
   "execution_count": 76,
   "metadata": {},
   "outputs": [
    {
     "data": {
      "text/plain": [
       "<matplotlib.image.AxesImage at 0x11d522518>"
      ]
     },
     "execution_count": 76,
     "metadata": {},
     "output_type": "execute_result"
    },
    {
     "data": {
      "image/png": "[encoded data removed]",
      "text/plain": [
       "<matplotlib.figure.Figure at 0x11d4f7358>"
      ]
     },
     "metadata": {},
     "output_type": "display_data"
    }
   ],
   "source": [
    "import matplotlib.pylab as plt\n",
    "%matplotlib inline \n",
    "\n",
    "plt.imshow(test_images[2,:,:])"
   ]
  },
  {
   "cell_type": "markdown",
   "metadata": {},
   "source": [
    "Let's have a look at the test data:"
   ]
  },
  {
   "cell_type": "code",
   "execution_count": 72,
   "metadata": {},
   "outputs": [
    {
     "data": {
      "text/plain": [
       "(10000, 28, 28)"
      ]
     },
     "execution_count": 72,
     "metadata": {},
     "output_type": "execute_result"
    }
   ],
   "source": [
    "test_images.shape"
   ]
  },
  {
   "cell_type": "code",
   "execution_count": 73,
   "metadata": {},
   "outputs": [
    {
     "data": {
      "text/plain": [
       "10000"
      ]
     },
     "execution_count": 73,
     "metadata": {},
     "output_type": "execute_result"
    }
   ],
   "source": [
    "len(test_labels)"
   ]
  },
  {
   "cell_type": "code",
   "execution_count": 74,
   "metadata": {},
   "outputs": [
    {
     "data": {
      "text/plain": [
       "array([7, 2, 1, ..., 4, 5, 6], dtype=uint8)"
      ]
     },
     "execution_count": 74,
     "metadata": {},
     "output_type": "execute_result"
    }
   ],
   "source": [
    "test_labels"
   ]
  },
  {
   "cell_type": "code",
   "execution_count": 75,
   "metadata": {},
   "outputs": [
    {
     "data": {
      "text/plain": [
       "(10000, 28, 28)"
      ]
     },
     "execution_count": 75,
     "metadata": {},
     "output_type": "execute_result"
    }
   ],
   "source": [
    "test_images.shape"
   ]
  },
  {
   "cell_type": "markdown",
   "metadata": {},
   "source": [
    "Our workflow will be as follow: first we will present our neural network with the training data, `train_images` and `train_labels`. The \n",
    "network will then learn to associate images and labels. Finally, we will ask the network to produce predictions for `test_images`, and we \n",
    "will verify if these predictions match the labels from `test_labels`.\n",
    "\n",
    "Let's build our network -- again, remember that you aren't supposed to understand everything about this example just yet."
   ]
  },
  {
   "cell_type": "code",
   "execution_count": 89,
   "metadata": {
    "collapsed": true
   },
   "outputs": [],
   "source": [
    "from keras import models\n",
    "from keras import layers\n",
    "\n",
    "network = models.Sequential()\n",
    "network.add(layers.Dense(12, activation='relu', input_shape=(28 * 28,)))\n",
    "network.add(layers.Dense(12, activation='relu', input_shape=(12,)))\n",
    "network.add(layers.Dense(10, activation='softmax'))"
   ]
  },
  {
   "cell_type": "markdown",
   "metadata": {},
   "source": [
    "\n",
    "The core building block of neural networks is the \"layer\", a data-processing module which you can conceive as a \"filter\" for data. Some \n",
    "data comes in, and comes out in a more useful form. Precisely, layers extract _representations_ out of the data fed into them -- hopefully \n",
    "representations that are more meaningful for the problem at hand. Most of deep learning really consists of chaining together simple layers \n",
    "which will implement a form of progressive \"data distillation\". A deep learning model is like a sieve for data processing, made of a \n",
    "succession of increasingly refined data filters -- the \"layers\".\n",
    "\n",
    "Here our network consists of a sequence of two `Dense` layers, which are densely-connected (also called \"fully-connected\") neural layers. \n",
    "The second (and last) layer is a 10-way \"softmax\" layer, which means it will return an array of 10 probability scores (summing to 1). Each \n",
    "score will be the probability that the current digit image belongs to one of our 10 digit classes.\n",
    "\n",
    "To make our network ready for training, we need to pick three more things, as part of \"compilation\" step:\n",
    "\n",
    "* A loss function: the is how the network will be able to measure how good a job it is doing on its training data, and thus how it will be \n",
    "able to steer itself in the right direction.\n",
    "* An optimizer: this is the mechanism through which the network will update itself based on the data it sees and its loss function.\n",
    "* Metrics to monitor during training and testing. Here we will only care about accuracy (the fraction of the images that were correctly \n",
    "classified).\n",
    "\n",
    "The exact purpose of the loss function and the optimizer will be made clear throughout the next two chapters."
   ]
  },
  {
   "cell_type": "code",
   "execution_count": 91,
   "metadata": {
    "collapsed": true
   },
   "outputs": [],
   "source": [
    "network.compile(optimizer='rmsprop',\n",
    "                loss='categorical_crossentropy',\n",
    "                metrics=['accuracy'])"
   ]
  },
  {
   "cell_type": "markdown",
   "metadata": {},
   "source": [
    "\n",
    "Before training, we will preprocess our data by reshaping it into the shape that the network expects, and scaling it so that all values are in \n",
    "the `[0, 1]` interval. Previously, our training images for instance were stored in an array of shape `(60000, 28, 28)` of type `uint8` with \n",
    "values in the `[0, 255]` interval. We transform it into a `float32` array of shape `(60000, 28 * 28)` with values between 0 and 1."
   ]
  },
  {
   "cell_type": "code",
   "execution_count": 79,
   "metadata": {
    "collapsed": true
   },
   "outputs": [],
   "source": [
    "train_images = train_images.reshape((60000, 28 * 28))\n",
    "train_images = train_images.astype('float32') / 255\n",
    "\n",
    "test_images = test_images.reshape((10000, 28 * 28))\n",
    "test_images = test_images.astype('float32') / 255"
   ]
  },
  {
   "cell_type": "markdown",
   "metadata": {},
   "source": [
    "We also need to categorically encode the labels, a step which we explain in chapter 3:"
   ]
  },
  {
   "cell_type": "code",
   "execution_count": 80,
   "metadata": {
    "collapsed": true
   },
   "outputs": [],
   "source": [
    "from keras.utils import to_categorical\n",
    "\n",
    "train_labels = to_categorical(train_labels)\n",
    "test_labels = to_categorical(test_labels)"
   ]
  },
  {
   "cell_type": "markdown",
   "metadata": {},
   "source": [
    "We are now ready to train our network, which in Keras is done via a call to the `fit` method of the network: \n",
    "we \"fit\" the model to its training data."
   ]
  },
  {
   "cell_type": "code",
   "execution_count": 92,
   "metadata": {},
   "outputs": [
    {
     "name": "stdout",
     "output_type": "stream",
     "text": [
      "Epoch 1/25\n",
      "60000/60000 [==============================] - 1s 19us/step - loss: 0.6976 - acc: 0.8090\n",
      "Epoch 2/25\n",
      "60000/60000 [==============================] - 1s 16us/step - loss: 0.3340 - acc: 0.9054\n",
      "Epoch 3/25\n",
      "60000/60000 [==============================] - 1s 16us/step - loss: 0.2933 - acc: 0.9168\n",
      "Epoch 4/25\n",
      "60000/60000 [==============================] - 1s 16us/step - loss: 0.2712 - acc: 0.9237\n",
      "Epoch 5/25\n",
      "60000/60000 [==============================] - 1s 16us/step - loss: 0.2544 - acc: 0.9280\n",
      "Epoch 6/25\n",
      "60000/60000 [==============================] - 1s 16us/step - loss: 0.2403 - acc: 0.9323\n",
      "Epoch 7/25\n",
      "60000/60000 [==============================] - 1s 16us/step - loss: 0.2292 - acc: 0.9353\n",
      "Epoch 8/25\n",
      "60000/60000 [==============================] - 1s 16us/step - loss: 0.2206 - acc: 0.9374\n",
      "Epoch 9/25\n",
      "60000/60000 [==============================] - 1s 18us/step - loss: 0.2136 - acc: 0.9396\n",
      "Epoch 10/25\n",
      "60000/60000 [==============================] - 1s 17us/step - loss: 0.2067 - acc: 0.9417\n",
      "Epoch 11/25\n",
      "60000/60000 [==============================] - 1s 17us/step - loss: 0.2022 - acc: 0.9424\n",
      "Epoch 12/25\n",
      "60000/60000 [==============================] - 1s 16us/step - loss: 0.1958 - acc: 0.9441\n",
      "Epoch 13/25\n",
      "60000/60000 [==============================] - 1s 16us/step - loss: 0.1921 - acc: 0.9451\n",
      "Epoch 14/25\n",
      "60000/60000 [==============================] - 1s 18us/step - loss: 0.1882 - acc: 0.9454\n",
      "Epoch 15/25\n",
      "60000/60000 [==============================] - 1s 18us/step - loss: 0.1848 - acc: 0.9471\n",
      "Epoch 16/25\n",
      "60000/60000 [==============================] - 1s 16us/step - loss: 0.1814 - acc: 0.9481\n",
      "Epoch 17/25\n",
      "60000/60000 [==============================] - 1s 16us/step - loss: 0.1793 - acc: 0.9485\n",
      "Epoch 18/25\n",
      "60000/60000 [==============================] - 1s 16us/step - loss: 0.1755 - acc: 0.9497\n",
      "Epoch 19/25\n",
      "60000/60000 [==============================] - 1s 18us/step - loss: 0.1737 - acc: 0.9504\n",
      "Epoch 20/25\n",
      "60000/60000 [==============================] - 1s 18us/step - loss: 0.1719 - acc: 0.9504\n",
      "Epoch 21/25\n",
      "60000/60000 [==============================] - 1s 19us/step - loss: 0.1692 - acc: 0.9512\n",
      "Epoch 22/25\n",
      "60000/60000 [==============================] - 1s 19us/step - loss: 0.1674 - acc: 0.9518\n",
      "Epoch 23/25\n",
      "60000/60000 [==============================] - 1s 18us/step - loss: 0.1658 - acc: 0.9522\n",
      "Epoch 24/25\n",
      "60000/60000 [==============================] - 1s 19us/step - loss: 0.1633 - acc: 0.9525\n",
      "Epoch 25/25\n",
      "60000/60000 [==============================] - 1s 18us/step - loss: 0.1628 - acc: 0.9526\n"
     ]
    },
    {
     "data": {
      "text/plain": [
       "<keras.callbacks.History at 0x11c525b00>"
      ]
     },
     "execution_count": 92,
     "metadata": {},
     "output_type": "execute_result"
    }
   ],
   "source": [
    "network.fit(train_images, train_labels, epochs=25, batch_size=128)"
   ]
  },
  {
   "cell_type": "markdown",
   "metadata": {},
   "source": [
    "Two quantities are being displayed during training: the \"loss\" (categorical cross entropy) of the network over the training data, and the accuracy of the network over \n",
    "the training data.\n",
    "\n",
    "We quickly reach an accuracy of 0.989 (i.e. 98.9%) on the training data. Now let's check that our model performs well on the test set too:"
   ]
  },
  {
   "cell_type": "code",
   "execution_count": 83,
   "metadata": {},
   "outputs": [
    {
     "name": "stdout",
     "output_type": "stream",
     "text": [
      "10000/10000 [==============================] - 0s 47us/step\n"
     ]
    }
   ],
   "source": [
    "test_loss, test_acc = network.evaluate(test_images, test_labels)"
   ]
  },
  {
   "cell_type": "code",
   "execution_count": 84,
   "metadata": {},
   "outputs": [
    {
     "name": "stdout",
     "output_type": "stream",
     "text": [
      "test_acc: 0.9828 test_loss 0.0973857346142\n"
     ]
    }
   ],
   "source": [
    "print('test_acc:', test_acc, 'test_loss', test_loss)"
   ]
  },
  {
   "cell_type": "markdown",
   "metadata": {},
   "source": [
    "\n",
    "Our test set accuracy turns out to be 97.8% -- that's quite a bit lower than the training set accuracy. \n",
    "This gap between training accuracy and test accuracy is an example of \"overfitting\", \n",
    "the fact that machine learning models tend to perform worse on new data than on their training data. \n",
    "Overfitting will be a central topic in next section.\n",
    "\n",
    "This concludes our very first example -- you just saw how we could build and a train a neural network to classify handwritten digits, in \n",
    "less than 20 lines of Python code. "
   ]
  },
  {
   "cell_type": "markdown",
   "metadata": {},
   "source": [
    "<a id='part3'></a>\n",
    "### Part 3 - Fundamentals of Machine Learning"
   ]
  },
  {
   "cell_type": "markdown",
   "metadata": {},
   "source": [
    "The MNIST example is a category of machine learning called *supervised learning*. This is by far the most common case. It consists of learning to map input data to known targets (also called *annotations*), given a set of examples (often annotated by humans).  Generally, almost all applications of deep learning that are in the spotlight these days belong in this category, such as optical character recognition, speech recognition, image classification, and language translation.\n",
    "\n",
    "#### Evaluating machine-learning models\n",
    "\n",
    "In the MNIST example, we split the data into a training set and a test set. The reason not to evaluate the models on the same data they were trained on quickly became evident: after just a few epochs, all the model began to *overfit*. That is, their performance on never-before-seen data started stalling (or worsening) compared to their performance on the training data—which always improves as training progresses.\n",
    "\n",
    "In machine learning, the goal is to achieve models that *generalize*—that perform well on never-before-seen data—and overfitting is the central obstacle. You can only control that which you can observe, so it’s crucial to be able to reliably measure the generalization power of your model. The following sections look at strategies for mitigating overfitting and maximizing generalization. In this section, we’ll focus on how to measure generalization: how to evaluate machine-learning models.\n",
    "\n",
    "At the end of the day, you’ll end up with a model that performs artificially well on the training data, because that’s what you optimized it for. You care about performance on completely new data, not the training data, so you need to use a completely different, never-before-seen dataset to evaluate the model: the test dataset. Your model shouldn’t have had access to any information about the test set, even indirectly. If anything about the model has been tuned based on test set performance, then your measure of generalization will be flawed.\n",
    "\n",
    "Splitting your data into training and test sets may seem straightforward, but there are a few advanced ways to do it that can come in handy when little data is available. Let’s review three classic evaluation recipes: simple hold-out validation, K-fold validation, and iterated K-fold validation with shuffling.\n",
    "\n",
    "#### Simple Hold-out Validation\n",
    "\n",
    "This is what we did with the MNIST data. Set apart some fraction of your data as your test set. Train on the remaining data, and evaluate on the test set. \n",
    "\n",
    "![hold out validation](holdout.png)\n",
    "\n",
    "This is the simplest evaluation protocol, and it suffers from one flaw: if little data is available, then your training and test sets may contain too few samples to be statistically representative of the data at hand. This is easy to recognize: if different random shuffling rounds of the data before splitting end up yielding very different measures of model performance, then you’re having this issue. K-fold validation and iterated K-fold validation are two ways to address this, as discussed next.\n",
    "\n",
    "\n",
    "#### K-fold Validation\n",
    "\n",
    "With this approach, you split your data into $K$ partitions of equal size. For each partition `i`, train a model on the remaining $K – 1$ partitions, and evaluate it on partition `i`. Your final score is then the averages of the $K$ scores obtained. This method is helpful when the performance of your model shows significant variance based on your train-test split. Like hold-out validation, this method doesn’t exempt you from using a distinct validation set for model calibration.\n",
    "\n",
    "![K-fold validation](kfold.png)\n",
    "\n",
    "#### Iterated K-Fold Validation with Shuffling\n",
    "\n",
    "This one is for situations in which you have relatively little data available and you need to evaluate your model as precisely as possible. This can be helpful in Kaggle competitions. It consists of applying K-fold validation multiple times, shuffling the data every time before splitting it $K$ ways. The final score is the average of the scores obtained at each run of K-fold validation. Note that you end up training and evaluating $P \\times K$ models (where $P$ is the number of iterations you use), which can very expensive.\n",
    "\n",
    "#### Overfitting and Underfitting\n",
    "\n",
    "In the MNIST case, the performance of the model on the held-out validation data always peaked after a few epochs and then began to degrade: the model quickly started to overfit to the training data. Overfitting happens in every machine-learning problem. Learning how to deal with overfitting is essential to mastering machine learning.\n",
    "The fundamental issue in machine learning is the tension between optimization and generalization. *Optimization* refers to the process of adjusting a model to get the best performance possible on the training data (the *learning* in *machine learning*), whereas *generalization* refers to how well the trained model performs on data it has never seen before. The goal of the game is to get good generalization, of course, but you don’t control generalization; you can only adjust the model based on its training data.\n",
    "At the beginning of training, optimization and generalization are correlated: the lower the loss on training data, the lower the loss on test data. While this is happening, your model is said to be *underfit*: there is still progress to be made; the network hasn’t yet modeled all relevant patterns in the training data. But after a certain number of iterations on the training data, generalization stops improving, and validation metrics stall and then begin to degrade: the model is starting to overfit. That is, it’s beginning to learn patterns that are specific to the training data but that are misleading or irrelevant when it comes to new data.\n",
    "To prevent a model from learning misleading or irrelevant patterns found in the training data, *the best solution is to get more training data*. A model trained on more data will naturally generalize better. When that isn’t possible, the next-best solution is to modulate the quantity of information that your model is allowed to store or to add constraints on what information it’s allowed to store. If a network can only afford to memorize a small number of patterns, the optimization process will force it to focus on the most prominent patterns, which have a better chance of generalizing well.\n",
    "The processing of fighting overfitting this way is called *regularization*. "
   ]
  },
  {
   "cell_type": "markdown",
   "metadata": {},
   "source": [
    "Pima Indians onset for diabetes\n",
    "\n",
    "<!--\n",
    "<a id='part4'></a>\n",
    "### Part 4 - Matplotlib Visualization\n",
    "-->"
   ]
  },
  {
   "cell_type": "markdown",
   "metadata": {},
   "source": [
    "In this exercise we are going to use the Pima Indians onset of diabetes dataset. This is a standard machine learning dataset available for free download from the UCI Machine Learning repository. It describes patient medical record data for Pima Indians and whether they had an onset of diabetes within five years. It is a binary classification problem (onset of diabetes as 1 or not as 0). The input variables that describe each patient are numerical and have varying scales. Below lists the eight attributes for the dataset:\n",
    "1. Number of times pregnant.\n",
    "2. Plasma glucose concentration a 2 hours in an oral glucose tolerance test.\n",
    "3. Diastolic blood pressure (mm Hg).\n",
    "4. Triceps skin fold thickness (mm).\n",
    "5. 2-Hour serum insulin (mu U/ml).\n",
    "6. Body mass index.\n",
    "7. Diabetes pedigree function.\n",
    "8. Age (years).\n",
    "9. Class, onset of diabetes within five years.\n",
    "\n",
    "pima-indians-diabetes.csv"
   ]
  },
  {
   "cell_type": "code",
   "execution_count": 73,
   "metadata": {},
   "outputs": [],
   "source": [
    "from keras.models import Sequential\n",
    "from keras.layers import Dense\n",
    "import numpy as np\n",
    "import matplotlib.pylab as plt \n",
    "\n",
    "%matplotlib inline\n",
    "# fix random seed for reproducibility\n",
    "np.random.seed(8)"
   ]
  },
  {
   "cell_type": "code",
   "execution_count": 74,
   "metadata": {},
   "outputs": [],
   "source": [
    "dataset = np.loadtxt('pima-indians-diabetes.csv', delimiter=\",\")\n",
    "X = dataset[:, 0:8]\n",
    "y = dataset[:,8]\n"
   ]
  },
  {
   "cell_type": "code",
   "execution_count": 105,
   "metadata": {},
   "outputs": [],
   "source": [
    "# create model \n",
    "model = Sequential()\n",
    "model.add(Dense(12, input_dim=8, activation='relu'))\n",
    "#model.add(Dense(8,  activation = 'relu'))\n",
    "model.add(Dense(1, activation='sigmoid'))"
   ]
  },
  {
   "cell_type": "code",
   "execution_count": 106,
   "metadata": {
    "collapsed": true
   },
   "outputs": [],
   "source": [
    "#compile model \n",
    "model.compile(loss='binary_crossentropy', optimizer='adam', metrics=['accuracy'])"
   ]
  },
  {
   "cell_type": "code",
   "execution_count": 107,
   "metadata": {
    "scrolled": true
   },
   "outputs": [
    {
     "name": "stdout",
     "output_type": "stream",
     "text": [
      "Train on 368 samples, validate on 182 samples\n",
      "Epoch 1/200\n",
      "368/368 [==============================] - 0s 957us/step - loss: 7.3895 - acc: 0.3995 - val_loss: 7.1664 - val_acc: 0.3736\n",
      "Epoch 2/200\n",
      "368/368 [==============================] - 0s 121us/step - loss: 5.1212 - acc: 0.5000 - val_loss: 6.2367 - val_acc: 0.4451\n",
      "Epoch 3/200\n",
      "368/368 [==============================] - 0s 118us/step - loss: 4.6175 - acc: 0.5136 - val_loss: 5.1447 - val_acc: 0.4670\n",
      "Epoch 4/200\n",
      "368/368 [==============================] - 0s 120us/step - loss: 3.6030 - acc: 0.5462 - val_loss: 3.1247 - val_acc: 0.5879\n",
      "Epoch 5/200\n",
      "368/368 [==============================] - 0s 118us/step - loss: 2.4718 - acc: 0.5951 - val_loss: 1.7917 - val_acc: 0.6429\n",
      "Epoch 6/200\n",
      "368/368 [==============================] - 0s 111us/step - loss: 1.8772 - acc: 0.5978 - val_loss: 1.6080 - val_acc: 0.6484\n",
      "Epoch 7/200\n",
      "368/368 [==============================] - 0s 132us/step - loss: 1.6574 - acc: 0.6114 - val_loss: 1.5140 - val_acc: 0.6154\n",
      "Epoch 8/200\n",
      "368/368 [==============================] - 0s 107us/step - loss: 1.4025 - acc: 0.6060 - val_loss: 1.2319 - val_acc: 0.6648\n",
      "Epoch 9/200\n",
      "368/368 [==============================] - 0s 111us/step - loss: 1.3217 - acc: 0.5978 - val_loss: 1.1800 - val_acc: 0.6154\n",
      "Epoch 10/200\n",
      "368/368 [==============================] - 0s 136us/step - loss: 1.1645 - acc: 0.5897 - val_loss: 1.1225 - val_acc: 0.6099\n",
      "Epoch 11/200\n",
      "368/368 [==============================] - 0s 120us/step - loss: 1.1479 - acc: 0.5842 - val_loss: 1.2227 - val_acc: 0.5440\n",
      "Epoch 12/200\n",
      "368/368 [==============================] - 0s 123us/step - loss: 1.0346 - acc: 0.6005 - val_loss: 0.9080 - val_acc: 0.6319\n",
      "Epoch 13/200\n",
      "368/368 [==============================] - 0s 129us/step - loss: 0.9464 - acc: 0.6005 - val_loss: 0.9085 - val_acc: 0.6374\n",
      "Epoch 14/200\n",
      "368/368 [==============================] - 0s 108us/step - loss: 0.9587 - acc: 0.6223 - val_loss: 1.1968 - val_acc: 0.5220\n",
      "Epoch 15/200\n",
      "368/368 [==============================] - 0s 111us/step - loss: 0.9341 - acc: 0.6087 - val_loss: 0.8772 - val_acc: 0.6209\n",
      "Epoch 16/200\n",
      "368/368 [==============================] - 0s 114us/step - loss: 0.8580 - acc: 0.6413 - val_loss: 1.0476 - val_acc: 0.5275\n",
      "Epoch 17/200\n",
      "368/368 [==============================] - 0s 111us/step - loss: 0.8567 - acc: 0.6141 - val_loss: 0.8030 - val_acc: 0.6484\n",
      "Epoch 18/200\n",
      "368/368 [==============================] - 0s 110us/step - loss: 0.7797 - acc: 0.6277 - val_loss: 0.7457 - val_acc: 0.6484\n",
      "Epoch 19/200\n",
      "368/368 [==============================] - 0s 119us/step - loss: 0.7950 - acc: 0.5951 - val_loss: 0.7390 - val_acc: 0.6593\n",
      "Epoch 20/200\n",
      "368/368 [==============================] - 0s 111us/step - loss: 0.7640 - acc: 0.6277 - val_loss: 0.7219 - val_acc: 0.6813\n",
      "Epoch 21/200\n",
      "368/368 [==============================] - 0s 121us/step - loss: 0.7600 - acc: 0.6386 - val_loss: 0.7966 - val_acc: 0.6209\n",
      "Epoch 22/200\n",
      "368/368 [==============================] - 0s 123us/step - loss: 0.7309 - acc: 0.6440 - val_loss: 0.7347 - val_acc: 0.6813\n",
      "Epoch 23/200\n",
      "368/368 [==============================] - 0s 126us/step - loss: 0.7377 - acc: 0.6386 - val_loss: 0.7240 - val_acc: 0.6648\n",
      "Epoch 24/200\n",
      "368/368 [==============================] - 0s 115us/step - loss: 0.7171 - acc: 0.6576 - val_loss: 0.7019 - val_acc: 0.6758\n",
      "Epoch 25/200\n",
      "368/368 [==============================] - 0s 117us/step - loss: 0.7379 - acc: 0.6332 - val_loss: 0.7430 - val_acc: 0.6978\n",
      "Epoch 26/200\n",
      "368/368 [==============================] - 0s 121us/step - loss: 0.7440 - acc: 0.6495 - val_loss: 0.8017 - val_acc: 0.6264\n",
      "Epoch 27/200\n",
      "368/368 [==============================] - 0s 141us/step - loss: 0.7160 - acc: 0.6495 - val_loss: 0.7220 - val_acc: 0.6648\n",
      "Epoch 28/200\n",
      "368/368 [==============================] - 0s 130us/step - loss: 0.6901 - acc: 0.6603 - val_loss: 0.7111 - val_acc: 0.6484\n",
      "Epoch 29/200\n",
      "368/368 [==============================] - 0s 127us/step - loss: 0.7179 - acc: 0.6576 - val_loss: 0.8130 - val_acc: 0.6264\n",
      "Epoch 30/200\n",
      "368/368 [==============================] - 0s 132us/step - loss: 0.6936 - acc: 0.6739 - val_loss: 0.7186 - val_acc: 0.6703\n",
      "Epoch 31/200\n",
      "368/368 [==============================] - 0s 126us/step - loss: 0.7066 - acc: 0.6413 - val_loss: 0.6538 - val_acc: 0.6923\n",
      "Epoch 32/200\n",
      "368/368 [==============================] - 0s 189us/step - loss: 0.6727 - acc: 0.6576 - val_loss: 0.6729 - val_acc: 0.6648\n",
      "Epoch 33/200\n",
      "368/368 [==============================] - 0s 140us/step - loss: 0.6900 - acc: 0.6603 - val_loss: 0.6448 - val_acc: 0.6813\n",
      "Epoch 34/200\n",
      "368/368 [==============================] - 0s 134us/step - loss: 0.7546 - acc: 0.6223 - val_loss: 0.6319 - val_acc: 0.6868\n",
      "Epoch 35/200\n",
      "368/368 [==============================] - 0s 137us/step - loss: 0.7089 - acc: 0.6413 - val_loss: 0.7842 - val_acc: 0.6099\n",
      "Epoch 36/200\n",
      "368/368 [==============================] - 0s 132us/step - loss: 0.6914 - acc: 0.6440 - val_loss: 0.6411 - val_acc: 0.6868\n",
      "Epoch 37/200\n",
      "368/368 [==============================] - 0s 123us/step - loss: 0.6707 - acc: 0.6603 - val_loss: 0.7353 - val_acc: 0.7033\n",
      "Epoch 38/200\n",
      "368/368 [==============================] - 0s 135us/step - loss: 0.6911 - acc: 0.6685 - val_loss: 0.6231 - val_acc: 0.7198\n",
      "Epoch 39/200\n",
      "368/368 [==============================] - 0s 116us/step - loss: 0.6434 - acc: 0.6630 - val_loss: 0.6146 - val_acc: 0.7033\n",
      "Epoch 40/200\n",
      "368/368 [==============================] - 0s 154us/step - loss: 0.6457 - acc: 0.6603 - val_loss: 0.6329 - val_acc: 0.6868\n",
      "Epoch 41/200\n",
      "368/368 [==============================] - 0s 139us/step - loss: 0.6627 - acc: 0.6413 - val_loss: 0.6627 - val_acc: 0.6758\n",
      "Epoch 42/200\n",
      "368/368 [==============================] - 0s 123us/step - loss: 0.6508 - acc: 0.6522 - val_loss: 0.6146 - val_acc: 0.7363\n",
      "Epoch 43/200\n",
      "368/368 [==============================] - 0s 131us/step - loss: 0.6323 - acc: 0.6793 - val_loss: 0.6158 - val_acc: 0.7253\n",
      "Epoch 44/200\n",
      "368/368 [==============================] - 0s 126us/step - loss: 0.6494 - acc: 0.6603 - val_loss: 0.6243 - val_acc: 0.7198\n",
      "Epoch 45/200\n",
      "368/368 [==============================] - 0s 133us/step - loss: 0.6305 - acc: 0.6658 - val_loss: 0.6180 - val_acc: 0.7253\n",
      "Epoch 46/200\n",
      "368/368 [==============================] - 0s 139us/step - loss: 0.6390 - acc: 0.6658 - val_loss: 0.6216 - val_acc: 0.7198\n",
      "Epoch 47/200\n",
      "368/368 [==============================] - 0s 136us/step - loss: 0.6451 - acc: 0.6739 - val_loss: 0.6214 - val_acc: 0.7143\n",
      "Epoch 48/200\n",
      "368/368 [==============================] - 0s 125us/step - loss: 0.6313 - acc: 0.6875 - val_loss: 0.7335 - val_acc: 0.5934\n",
      "Epoch 49/200\n",
      "368/368 [==============================] - 0s 135us/step - loss: 0.6816 - acc: 0.6413 - val_loss: 0.6016 - val_acc: 0.7308\n",
      "Epoch 50/200\n",
      "368/368 [==============================] - 0s 143us/step - loss: 0.6189 - acc: 0.6902 - val_loss: 0.6101 - val_acc: 0.7143\n",
      "Epoch 51/200\n",
      "368/368 [==============================] - 0s 154us/step - loss: 0.6437 - acc: 0.6495 - val_loss: 0.7558 - val_acc: 0.6044\n",
      "Epoch 52/200\n",
      "368/368 [==============================] - 0s 129us/step - loss: 0.6547 - acc: 0.6630 - val_loss: 0.6357 - val_acc: 0.7088\n",
      "Epoch 53/200\n",
      "368/368 [==============================] - 0s 126us/step - loss: 0.6224 - acc: 0.6712 - val_loss: 0.6882 - val_acc: 0.7033\n",
      "Epoch 54/200\n",
      "368/368 [==============================] - 0s 117us/step - loss: 0.6816 - acc: 0.6549 - val_loss: 0.6295 - val_acc: 0.6978\n",
      "Epoch 55/200\n",
      "368/368 [==============================] - 0s 107us/step - loss: 0.6939 - acc: 0.6522 - val_loss: 0.6147 - val_acc: 0.7363\n",
      "Epoch 56/200\n",
      "368/368 [==============================] - 0s 113us/step - loss: 0.6148 - acc: 0.6929 - val_loss: 0.5966 - val_acc: 0.7253\n",
      "Epoch 57/200\n",
      "368/368 [==============================] - 0s 104us/step - loss: 0.6305 - acc: 0.6685 - val_loss: 0.6055 - val_acc: 0.7143\n",
      "Epoch 58/200\n",
      "368/368 [==============================] - 0s 95us/step - loss: 0.6202 - acc: 0.7011 - val_loss: 0.5971 - val_acc: 0.7253\n",
      "Epoch 59/200\n",
      "368/368 [==============================] - 0s 102us/step - loss: 0.6282 - acc: 0.6630 - val_loss: 0.7579 - val_acc: 0.7033\n",
      "Epoch 60/200\n",
      "368/368 [==============================] - 0s 117us/step - loss: 0.6813 - acc: 0.6603 - val_loss: 0.6546 - val_acc: 0.6703\n"
     ]
    },
    {
     "name": "stdout",
     "output_type": "stream",
     "text": [
      "Epoch 61/200\n",
      "368/368 [==============================] - 0s 111us/step - loss: 0.6377 - acc: 0.6522 - val_loss: 0.6144 - val_acc: 0.6868\n",
      "Epoch 62/200\n",
      "368/368 [==============================] - 0s 110us/step - loss: 0.6445 - acc: 0.6576 - val_loss: 0.5986 - val_acc: 0.7418\n",
      "Epoch 63/200\n",
      "368/368 [==============================] - 0s 113us/step - loss: 0.6341 - acc: 0.6522 - val_loss: 0.5842 - val_acc: 0.7363\n",
      "Epoch 64/200\n",
      "368/368 [==============================] - 0s 112us/step - loss: 0.6222 - acc: 0.6957 - val_loss: 0.5857 - val_acc: 0.7363\n",
      "Epoch 65/200\n",
      "368/368 [==============================] - 0s 105us/step - loss: 0.6173 - acc: 0.6766 - val_loss: 0.5810 - val_acc: 0.7308\n",
      "Epoch 66/200\n",
      "368/368 [==============================] - 0s 108us/step - loss: 0.6266 - acc: 0.6712 - val_loss: 0.6173 - val_acc: 0.7088\n",
      "Epoch 67/200\n",
      "368/368 [==============================] - 0s 112us/step - loss: 0.6209 - acc: 0.6658 - val_loss: 0.5988 - val_acc: 0.7418\n",
      "Epoch 68/200\n",
      "368/368 [==============================] - 0s 113us/step - loss: 0.6344 - acc: 0.6658 - val_loss: 0.5751 - val_acc: 0.7253\n",
      "Epoch 69/200\n",
      "368/368 [==============================] - 0s 116us/step - loss: 0.6732 - acc: 0.6630 - val_loss: 0.6034 - val_acc: 0.7143\n",
      "Epoch 70/200\n",
      "368/368 [==============================] - 0s 117us/step - loss: 0.6057 - acc: 0.6848 - val_loss: 0.6520 - val_acc: 0.6593\n",
      "Epoch 71/200\n",
      "368/368 [==============================] - 0s 119us/step - loss: 0.6286 - acc: 0.6603 - val_loss: 0.6168 - val_acc: 0.7143\n",
      "Epoch 72/200\n",
      "368/368 [==============================] - 0s 117us/step - loss: 0.6473 - acc: 0.6359 - val_loss: 0.6104 - val_acc: 0.7033\n",
      "Epoch 73/200\n",
      "368/368 [==============================] - 0s 117us/step - loss: 0.6142 - acc: 0.6658 - val_loss: 0.5757 - val_acc: 0.7418\n",
      "Epoch 74/200\n",
      "368/368 [==============================] - 0s 108us/step - loss: 0.6171 - acc: 0.6440 - val_loss: 0.5746 - val_acc: 0.7198\n",
      "Epoch 75/200\n",
      "368/368 [==============================] - 0s 112us/step - loss: 0.5953 - acc: 0.6929 - val_loss: 0.6128 - val_acc: 0.7088\n",
      "Epoch 76/200\n",
      "368/368 [==============================] - 0s 115us/step - loss: 0.6001 - acc: 0.6875 - val_loss: 0.5922 - val_acc: 0.7253\n",
      "Epoch 77/200\n",
      "368/368 [==============================] - 0s 142us/step - loss: 0.6069 - acc: 0.6875 - val_loss: 0.5829 - val_acc: 0.7308\n",
      "Epoch 78/200\n",
      "368/368 [==============================] - 0s 114us/step - loss: 0.6454 - acc: 0.6712 - val_loss: 0.6655 - val_acc: 0.7088\n",
      "Epoch 79/200\n",
      "368/368 [==============================] - 0s 112us/step - loss: 0.6206 - acc: 0.6821 - val_loss: 0.6522 - val_acc: 0.6758\n",
      "Epoch 80/200\n",
      "368/368 [==============================] - 0s 118us/step - loss: 0.6342 - acc: 0.6522 - val_loss: 0.5966 - val_acc: 0.7253\n",
      "Epoch 81/200\n",
      "368/368 [==============================] - 0s 107us/step - loss: 0.6233 - acc: 0.6766 - val_loss: 0.5691 - val_acc: 0.7253\n",
      "Epoch 82/200\n",
      "368/368 [==============================] - 0s 109us/step - loss: 0.6013 - acc: 0.7120 - val_loss: 0.5687 - val_acc: 0.7143\n",
      "Epoch 83/200\n",
      "368/368 [==============================] - 0s 112us/step - loss: 0.6099 - acc: 0.7038 - val_loss: 0.6508 - val_acc: 0.7088\n",
      "Epoch 84/200\n",
      "368/368 [==============================] - 0s 109us/step - loss: 0.6164 - acc: 0.6957 - val_loss: 0.5746 - val_acc: 0.7143\n",
      "Epoch 85/200\n",
      "368/368 [==============================] - 0s 105us/step - loss: 0.6043 - acc: 0.6739 - val_loss: 0.5704 - val_acc: 0.7418\n",
      "Epoch 86/200\n",
      "368/368 [==============================] - 0s 106us/step - loss: 0.6105 - acc: 0.6821 - val_loss: 0.5867 - val_acc: 0.7418\n",
      "Epoch 87/200\n",
      "368/368 [==============================] - 0s 104us/step - loss: 0.6406 - acc: 0.6658 - val_loss: 0.6136 - val_acc: 0.6923\n",
      "Epoch 88/200\n",
      "368/368 [==============================] - 0s 108us/step - loss: 0.6083 - acc: 0.6957 - val_loss: 0.5874 - val_acc: 0.7308\n",
      "Epoch 89/200\n",
      "368/368 [==============================] - 0s 104us/step - loss: 0.5920 - acc: 0.7065 - val_loss: 0.5634 - val_acc: 0.7308\n",
      "Epoch 90/200\n",
      "368/368 [==============================] - 0s 108us/step - loss: 0.6010 - acc: 0.6821 - val_loss: 0.5663 - val_acc: 0.7473\n",
      "Epoch 91/200\n",
      "368/368 [==============================] - 0s 106us/step - loss: 0.6174 - acc: 0.6902 - val_loss: 0.5655 - val_acc: 0.7473\n",
      "Epoch 92/200\n",
      "368/368 [==============================] - ETA: 0s - loss: 0.6934 - acc: 0.650 - 0s 102us/step - loss: 0.6128 - acc: 0.6576 - val_loss: 0.5673 - val_acc: 0.7527\n",
      "Epoch 93/200\n",
      "368/368 [==============================] - 0s 108us/step - loss: 0.6051 - acc: 0.6848 - val_loss: 0.5587 - val_acc: 0.7308\n",
      "Epoch 94/200\n",
      "368/368 [==============================] - 0s 107us/step - loss: 0.5941 - acc: 0.7120 - val_loss: 0.5779 - val_acc: 0.7473\n",
      "Epoch 95/200\n",
      "368/368 [==============================] - 0s 111us/step - loss: 0.5947 - acc: 0.6957 - val_loss: 0.5826 - val_acc: 0.7308\n",
      "Epoch 96/200\n",
      "368/368 [==============================] - 0s 107us/step - loss: 0.6363 - acc: 0.6766 - val_loss: 0.5672 - val_acc: 0.7418\n",
      "Epoch 97/200\n",
      "368/368 [==============================] - 0s 110us/step - loss: 0.6728 - acc: 0.6685 - val_loss: 0.6266 - val_acc: 0.6758\n",
      "Epoch 98/200\n",
      "368/368 [==============================] - 0s 109us/step - loss: 0.6499 - acc: 0.6739 - val_loss: 0.6073 - val_acc: 0.7198\n",
      "Epoch 99/200\n",
      "368/368 [==============================] - 0s 110us/step - loss: 0.6308 - acc: 0.6848 - val_loss: 0.5566 - val_acc: 0.7473\n",
      "Epoch 100/200\n",
      "368/368 [==============================] - 0s 107us/step - loss: 0.5915 - acc: 0.6902 - val_loss: 0.5768 - val_acc: 0.7418\n",
      "Epoch 101/200\n",
      "368/368 [==============================] - 0s 113us/step - loss: 0.6103 - acc: 0.6793 - val_loss: 0.5954 - val_acc: 0.7363\n",
      "Epoch 102/200\n",
      "368/368 [==============================] - 0s 109us/step - loss: 0.5964 - acc: 0.7065 - val_loss: 0.5883 - val_acc: 0.7473\n",
      "Epoch 103/200\n",
      "368/368 [==============================] - 0s 113us/step - loss: 0.5862 - acc: 0.7092 - val_loss: 0.5678 - val_acc: 0.7527\n",
      "Epoch 104/200\n",
      "368/368 [==============================] - 0s 107us/step - loss: 0.6087 - acc: 0.6848 - val_loss: 0.5814 - val_acc: 0.7363\n",
      "Epoch 105/200\n",
      "368/368 [==============================] - 0s 109us/step - loss: 0.5875 - acc: 0.7038 - val_loss: 0.5527 - val_acc: 0.7363\n",
      "Epoch 106/200\n",
      "368/368 [==============================] - 0s 110us/step - loss: 0.6133 - acc: 0.6929 - val_loss: 0.5528 - val_acc: 0.7253\n",
      "Epoch 107/200\n",
      "368/368 [==============================] - 0s 108us/step - loss: 0.5947 - acc: 0.6929 - val_loss: 0.6411 - val_acc: 0.6758\n",
      "Epoch 108/200\n",
      "368/368 [==============================] - 0s 108us/step - loss: 0.5949 - acc: 0.6929 - val_loss: 0.5586 - val_acc: 0.7363\n",
      "Epoch 109/200\n",
      "368/368 [==============================] - 0s 122us/step - loss: 0.5955 - acc: 0.6902 - val_loss: 0.6376 - val_acc: 0.6868\n",
      "Epoch 110/200\n",
      "368/368 [==============================] - 0s 103us/step - loss: 0.6238 - acc: 0.6630 - val_loss: 0.5737 - val_acc: 0.7473\n",
      "Epoch 111/200\n",
      "368/368 [==============================] - 0s 101us/step - loss: 0.6031 - acc: 0.6603 - val_loss: 0.5519 - val_acc: 0.7363\n",
      "Epoch 112/200\n",
      "368/368 [==============================] - 0s 104us/step - loss: 0.5806 - acc: 0.7147 - val_loss: 0.5622 - val_acc: 0.7582\n",
      "Epoch 113/200\n",
      "368/368 [==============================] - 0s 110us/step - loss: 0.6425 - acc: 0.6685 - val_loss: 0.5795 - val_acc: 0.7418\n",
      "Epoch 114/200\n",
      "368/368 [==============================] - 0s 100us/step - loss: 0.5944 - acc: 0.6929 - val_loss: 0.5514 - val_acc: 0.7418\n",
      "Epoch 115/200\n",
      "368/368 [==============================] - 0s 100us/step - loss: 0.6093 - acc: 0.6603 - val_loss: 0.5496 - val_acc: 0.7473\n",
      "Epoch 116/200\n",
      "368/368 [==============================] - 0s 110us/step - loss: 0.6070 - acc: 0.7092 - val_loss: 0.5597 - val_acc: 0.7473\n",
      "Epoch 117/200\n",
      "368/368 [==============================] - 0s 106us/step - loss: 0.5730 - acc: 0.7147 - val_loss: 0.5558 - val_acc: 0.7527\n",
      "Epoch 118/200\n",
      "368/368 [==============================] - 0s 120us/step - loss: 0.5921 - acc: 0.6875 - val_loss: 0.5842 - val_acc: 0.7198\n",
      "Epoch 119/200\n",
      "368/368 [==============================] - 0s 125us/step - loss: 0.6351 - acc: 0.6739 - val_loss: 0.5524 - val_acc: 0.7582\n",
      "Epoch 120/200\n",
      "368/368 [==============================] - 0s 106us/step - loss: 0.5903 - acc: 0.6929 - val_loss: 0.5478 - val_acc: 0.7418\n"
     ]
    },
    {
     "name": "stdout",
     "output_type": "stream",
     "text": [
      "Epoch 121/200\n",
      "368/368 [==============================] - 0s 113us/step - loss: 0.6018 - acc: 0.6848 - val_loss: 0.5420 - val_acc: 0.7473\n",
      "Epoch 122/200\n",
      "368/368 [==============================] - 0s 110us/step - loss: 0.5902 - acc: 0.6766 - val_loss: 0.5691 - val_acc: 0.7527\n",
      "Epoch 123/200\n",
      "368/368 [==============================] - 0s 115us/step - loss: 0.5841 - acc: 0.6902 - val_loss: 0.5578 - val_acc: 0.7527\n",
      "Epoch 124/200\n",
      "368/368 [==============================] - 0s 114us/step - loss: 0.5743 - acc: 0.7011 - val_loss: 0.5849 - val_acc: 0.7033\n",
      "Epoch 125/200\n",
      "368/368 [==============================] - 0s 113us/step - loss: 0.6561 - acc: 0.6549 - val_loss: 0.5655 - val_acc: 0.7308\n",
      "Epoch 126/200\n",
      "368/368 [==============================] - 0s 110us/step - loss: 0.6374 - acc: 0.6440 - val_loss: 0.5867 - val_acc: 0.7363\n",
      "Epoch 127/200\n",
      "368/368 [==============================] - 0s 106us/step - loss: 0.6177 - acc: 0.6848 - val_loss: 0.5717 - val_acc: 0.7692\n",
      "Epoch 128/200\n",
      "368/368 [==============================] - 0s 111us/step - loss: 0.5882 - acc: 0.7065 - val_loss: 0.6778 - val_acc: 0.6648\n",
      "Epoch 129/200\n",
      "368/368 [==============================] - 0s 106us/step - loss: 0.5889 - acc: 0.7011 - val_loss: 0.5653 - val_acc: 0.7527\n",
      "Epoch 130/200\n",
      "368/368 [==============================] - 0s 111us/step - loss: 0.5716 - acc: 0.7120 - val_loss: 0.7057 - val_acc: 0.6484\n",
      "Epoch 131/200\n",
      "368/368 [==============================] - 0s 107us/step - loss: 0.6713 - acc: 0.6440 - val_loss: 0.6354 - val_acc: 0.6374\n",
      "Epoch 132/200\n",
      "368/368 [==============================] - 0s 110us/step - loss: 0.6219 - acc: 0.6848 - val_loss: 0.5392 - val_acc: 0.7527\n",
      "Epoch 133/200\n",
      "368/368 [==============================] - 0s 109us/step - loss: 0.5829 - acc: 0.6984 - val_loss: 0.5682 - val_acc: 0.7308\n",
      "Epoch 134/200\n",
      "368/368 [==============================] - 0s 110us/step - loss: 0.6000 - acc: 0.7011 - val_loss: 0.5586 - val_acc: 0.7637\n",
      "Epoch 135/200\n",
      "368/368 [==============================] - 0s 108us/step - loss: 0.6520 - acc: 0.6522 - val_loss: 0.5659 - val_acc: 0.7418\n",
      "Epoch 136/200\n",
      "368/368 [==============================] - 0s 108us/step - loss: 0.6029 - acc: 0.6848 - val_loss: 0.5522 - val_acc: 0.7418\n",
      "Epoch 137/200\n",
      "368/368 [==============================] - 0s 106us/step - loss: 0.5747 - acc: 0.7120 - val_loss: 0.5358 - val_acc: 0.7473\n",
      "Epoch 138/200\n",
      "368/368 [==============================] - 0s 112us/step - loss: 0.6010 - acc: 0.6848 - val_loss: 0.5465 - val_acc: 0.7637\n",
      "Epoch 139/200\n",
      "368/368 [==============================] - 0s 105us/step - loss: 0.6027 - acc: 0.6766 - val_loss: 0.6121 - val_acc: 0.6978\n",
      "Epoch 140/200\n",
      "368/368 [==============================] - 0s 107us/step - loss: 0.5846 - acc: 0.7174 - val_loss: 0.5686 - val_acc: 0.7363\n",
      "Epoch 141/200\n",
      "368/368 [==============================] - 0s 106us/step - loss: 0.6376 - acc: 0.6821 - val_loss: 0.5478 - val_acc: 0.7418\n",
      "Epoch 142/200\n",
      "368/368 [==============================] - 0s 110us/step - loss: 0.5924 - acc: 0.7120 - val_loss: 0.5580 - val_acc: 0.7473\n",
      "Epoch 143/200\n",
      "368/368 [==============================] - 0s 108us/step - loss: 0.5829 - acc: 0.7120 - val_loss: 0.5342 - val_acc: 0.7418\n",
      "Epoch 144/200\n",
      "368/368 [==============================] - 0s 106us/step - loss: 0.5747 - acc: 0.7228 - val_loss: 0.5274 - val_acc: 0.7582\n",
      "Epoch 145/200\n",
      "368/368 [==============================] - 0s 113us/step - loss: 0.5944 - acc: 0.6821 - val_loss: 0.5299 - val_acc: 0.7527\n",
      "Epoch 146/200\n",
      "368/368 [==============================] - 0s 115us/step - loss: 0.5591 - acc: 0.6957 - val_loss: 0.5420 - val_acc: 0.7582\n",
      "Epoch 147/200\n",
      "368/368 [==============================] - 0s 107us/step - loss: 0.5837 - acc: 0.7038 - val_loss: 0.5675 - val_acc: 0.7582\n",
      "Epoch 148/200\n",
      "368/368 [==============================] - 0s 106us/step - loss: 0.5834 - acc: 0.6984 - val_loss: 0.5312 - val_acc: 0.7473\n",
      "Epoch 149/200\n",
      "368/368 [==============================] - 0s 107us/step - loss: 0.5767 - acc: 0.6766 - val_loss: 0.5413 - val_acc: 0.7582\n",
      "Epoch 150/200\n",
      "368/368 [==============================] - 0s 106us/step - loss: 0.5564 - acc: 0.7310 - val_loss: 0.5758 - val_acc: 0.7473\n",
      "Epoch 151/200\n",
      "368/368 [==============================] - 0s 106us/step - loss: 0.5869 - acc: 0.6957 - val_loss: 0.5756 - val_acc: 0.7527\n",
      "Epoch 152/200\n",
      "368/368 [==============================] - 0s 108us/step - loss: 0.5512 - acc: 0.7364 - val_loss: 0.5341 - val_acc: 0.7418\n",
      "Epoch 153/200\n",
      "368/368 [==============================] - 0s 108us/step - loss: 0.6007 - acc: 0.6821 - val_loss: 0.5238 - val_acc: 0.7527\n",
      "Epoch 154/200\n",
      "368/368 [==============================] - 0s 105us/step - loss: 0.5698 - acc: 0.7038 - val_loss: 0.5848 - val_acc: 0.7088\n",
      "Epoch 155/200\n",
      "368/368 [==============================] - 0s 111us/step - loss: 0.5815 - acc: 0.7011 - val_loss: 0.5357 - val_acc: 0.7637\n",
      "Epoch 156/200\n",
      "368/368 [==============================] - 0s 105us/step - loss: 0.5706 - acc: 0.6957 - val_loss: 0.5294 - val_acc: 0.7527\n",
      "Epoch 157/200\n",
      "368/368 [==============================] - 0s 107us/step - loss: 0.5663 - acc: 0.7147 - val_loss: 0.5931 - val_acc: 0.7363\n",
      "Epoch 158/200\n",
      "368/368 [==============================] - 0s 106us/step - loss: 0.5898 - acc: 0.6902 - val_loss: 0.5273 - val_acc: 0.7473\n",
      "Epoch 159/200\n",
      "368/368 [==============================] - 0s 106us/step - loss: 0.6010 - acc: 0.6984 - val_loss: 0.5571 - val_acc: 0.7637\n",
      "Epoch 160/200\n",
      "368/368 [==============================] - 0s 108us/step - loss: 0.5949 - acc: 0.6603 - val_loss: 0.5295 - val_acc: 0.7637\n",
      "Epoch 161/200\n",
      "368/368 [==============================] - 0s 109us/step - loss: 0.5902 - acc: 0.6929 - val_loss: 0.5186 - val_acc: 0.7747\n",
      "Epoch 162/200\n",
      "368/368 [==============================] - 0s 110us/step - loss: 0.5669 - acc: 0.7201 - val_loss: 0.5299 - val_acc: 0.7527\n",
      "Epoch 163/200\n",
      "368/368 [==============================] - 0s 106us/step - loss: 0.5801 - acc: 0.7147 - val_loss: 0.5408 - val_acc: 0.7418\n",
      "Epoch 164/200\n",
      "368/368 [==============================] - 0s 106us/step - loss: 0.5808 - acc: 0.7147 - val_loss: 0.5308 - val_acc: 0.7582\n",
      "Epoch 165/200\n",
      "368/368 [==============================] - 0s 105us/step - loss: 0.5595 - acc: 0.7283 - val_loss: 0.5276 - val_acc: 0.7637\n",
      "Epoch 166/200\n",
      "368/368 [==============================] - 0s 107us/step - loss: 0.5719 - acc: 0.7092 - val_loss: 0.5642 - val_acc: 0.7473\n",
      "Epoch 167/200\n",
      "368/368 [==============================] - 0s 108us/step - loss: 0.5571 - acc: 0.7283 - val_loss: 0.5258 - val_acc: 0.7637\n",
      "Epoch 168/200\n",
      "368/368 [==============================] - 0s 108us/step - loss: 0.5606 - acc: 0.7255 - val_loss: 0.5351 - val_acc: 0.7582\n",
      "Epoch 169/200\n",
      "368/368 [==============================] - 0s 110us/step - loss: 0.5792 - acc: 0.7120 - val_loss: 0.5309 - val_acc: 0.7527\n",
      "Epoch 170/200\n",
      "368/368 [==============================] - 0s 113us/step - loss: 0.5830 - acc: 0.7011 - val_loss: 0.6061 - val_acc: 0.6374\n",
      "Epoch 171/200\n",
      "368/368 [==============================] - 0s 108us/step - loss: 0.5749 - acc: 0.7011 - val_loss: 0.6421 - val_acc: 0.6813\n",
      "Epoch 172/200\n",
      "368/368 [==============================] - 0s 109us/step - loss: 0.6769 - acc: 0.6304 - val_loss: 0.5212 - val_acc: 0.7582\n",
      "Epoch 173/200\n",
      "368/368 [==============================] - 0s 102us/step - loss: 0.5691 - acc: 0.6984 - val_loss: 0.5444 - val_acc: 0.7363\n",
      "Epoch 174/200\n",
      "368/368 [==============================] - 0s 103us/step - loss: 0.5869 - acc: 0.7065 - val_loss: 0.6687 - val_acc: 0.6099\n",
      "Epoch 175/200\n",
      "368/368 [==============================] - 0s 101us/step - loss: 0.5905 - acc: 0.6821 - val_loss: 0.5657 - val_acc: 0.7253\n",
      "Epoch 176/200\n",
      "368/368 [==============================] - 0s 106us/step - loss: 0.5827 - acc: 0.7011 - val_loss: 0.5563 - val_acc: 0.7582\n",
      "Epoch 177/200\n",
      "368/368 [==============================] - 0s 101us/step - loss: 0.5762 - acc: 0.6957 - val_loss: 0.5123 - val_acc: 0.7637\n",
      "Epoch 178/200\n",
      "368/368 [==============================] - 0s 97us/step - loss: 0.5982 - acc: 0.6957 - val_loss: 0.5508 - val_acc: 0.7473\n",
      "Epoch 179/200\n",
      "368/368 [==============================] - 0s 102us/step - loss: 0.5671 - acc: 0.7038 - val_loss: 0.5403 - val_acc: 0.7473\n",
      "Epoch 180/200\n",
      "368/368 [==============================] - 0s 108us/step - loss: 0.5644 - acc: 0.7228 - val_loss: 0.5101 - val_acc: 0.7747\n"
     ]
    },
    {
     "name": "stdout",
     "output_type": "stream",
     "text": [
      "Epoch 181/200\n",
      "368/368 [==============================] - 0s 103us/step - loss: 0.5680 - acc: 0.7011 - val_loss: 0.5415 - val_acc: 0.7473\n",
      "Epoch 182/200\n",
      "368/368 [==============================] - 0s 109us/step - loss: 0.5675 - acc: 0.7391 - val_loss: 0.5418 - val_acc: 0.7637\n",
      "Epoch 183/200\n",
      "368/368 [==============================] - 0s 112us/step - loss: 0.5640 - acc: 0.7147 - val_loss: 0.5773 - val_acc: 0.6868\n",
      "Epoch 184/200\n",
      "368/368 [==============================] - 0s 100us/step - loss: 0.5662 - acc: 0.7092 - val_loss: 0.5152 - val_acc: 0.7692\n",
      "Epoch 185/200\n",
      "368/368 [==============================] - 0s 109us/step - loss: 0.5595 - acc: 0.7092 - val_loss: 0.5194 - val_acc: 0.7473\n",
      "Epoch 186/200\n",
      "368/368 [==============================] - 0s 101us/step - loss: 0.5551 - acc: 0.7283 - val_loss: 0.5091 - val_acc: 0.7857\n",
      "Epoch 187/200\n",
      "368/368 [==============================] - 0s 97us/step - loss: 0.5466 - acc: 0.7337 - val_loss: 0.5216 - val_acc: 0.7527\n",
      "Epoch 188/200\n",
      "368/368 [==============================] - 0s 104us/step - loss: 0.5549 - acc: 0.7174 - val_loss: 0.5171 - val_acc: 0.7637\n",
      "Epoch 189/200\n",
      "368/368 [==============================] - 0s 102us/step - loss: 0.6109 - acc: 0.6685 - val_loss: 0.5070 - val_acc: 0.7802\n",
      "Epoch 190/200\n",
      "368/368 [==============================] - 0s 105us/step - loss: 0.5638 - acc: 0.7310 - val_loss: 0.5222 - val_acc: 0.7527\n",
      "Epoch 191/200\n",
      "368/368 [==============================] - 0s 99us/step - loss: 0.5923 - acc: 0.6957 - val_loss: 0.6826 - val_acc: 0.7143\n",
      "Epoch 192/200\n",
      "368/368 [==============================] - 0s 112us/step - loss: 0.6457 - acc: 0.6929 - val_loss: 0.5165 - val_acc: 0.7582\n",
      "Epoch 193/200\n",
      "368/368 [==============================] - 0s 104us/step - loss: 0.5866 - acc: 0.7011 - val_loss: 0.5525 - val_acc: 0.7582\n",
      "Epoch 194/200\n",
      "368/368 [==============================] - ETA: 0s - loss: 0.5194 - acc: 0.750 - 0s 99us/step - loss: 0.5591 - acc: 0.7255 - val_loss: 0.5156 - val_acc: 0.7582\n",
      "Epoch 195/200\n",
      "368/368 [==============================] - 0s 113us/step - loss: 0.5541 - acc: 0.7391 - val_loss: 0.5244 - val_acc: 0.7692\n",
      "Epoch 196/200\n",
      "368/368 [==============================] - 0s 104us/step - loss: 0.5517 - acc: 0.7228 - val_loss: 0.5108 - val_acc: 0.7692\n",
      "Epoch 197/200\n",
      "368/368 [==============================] - ETA: 0s - loss: 0.6342 - acc: 0.700 - 0s 111us/step - loss: 0.5691 - acc: 0.7201 - val_loss: 0.5500 - val_acc: 0.7308\n",
      "Epoch 198/200\n",
      "368/368 [==============================] - 0s 111us/step - loss: 0.5447 - acc: 0.7364 - val_loss: 0.5103 - val_acc: 0.7473\n",
      "Epoch 199/200\n",
      "368/368 [==============================] - 0s 107us/step - loss: 0.5446 - acc: 0.7228 - val_loss: 0.5217 - val_acc: 0.7582\n",
      "Epoch 200/200\n",
      "368/368 [==============================] - 0s 109us/step - loss: 0.5609 - acc: 0.7120 - val_loss: 0.5478 - val_acc: 0.7418\n"
     ]
    }
   ],
   "source": [
    "s = model.fit(X_train, y_train, validation_split=0.33, epochs=200, batch_size = 20);"
   ]
  },
  {
   "cell_type": "code",
   "execution_count": 111,
   "metadata": {},
   "outputs": [],
   "source": [
    "val_acc = s.history['val_acc']\n",
    "train_acc = s.history['acc']\n"
   ]
  },
  {
   "cell_type": "code",
   "execution_count": 112,
   "metadata": {},
   "outputs": [
    {
     "data": {
      "text/plain": [
       "<matplotlib.legend.Legend at 0x11bbe1748>"
      ]
     },
     "execution_count": 112,
     "metadata": {},
     "output_type": "execute_result"
    },
    {
     "data": {
      "image/png": "[encoded data removed]",
      "text/plain": [
       "<matplotlib.figure.Figure at 0x126caf358>"
      ]
     },
     "metadata": {},
     "output_type": "display_data"
    }
   ],
   "source": [
    "plt.plot(val_acc)\n",
    "plt.plot(train_acc, 'r', label = 'train')\n",
    "plt.legend()"
   ]
  },
  {
   "cell_type": "code",
   "execution_count": 118,
   "metadata": {},
   "outputs": [
    {
     "data": {
      "text/plain": [
       "[<matplotlib.lines.Line2D at 0x11c09beb8>,\n",
       " <matplotlib.lines.Line2D at 0x11c0a7048>,\n",
       " <matplotlib.lines.Line2D at 0x11c0a7198>,\n",
       " <matplotlib.lines.Line2D at 0x11c0a72e8>,\n",
       " <matplotlib.lines.Line2D at 0x11c0a7438>,\n",
       " <matplotlib.lines.Line2D at 0x11c0a7588>,\n",
       " <matplotlib.lines.Line2D at 0x11c0a76d8>,\n",
       " <matplotlib.lines.Line2D at 0x11c0a7828>,\n",
       " <matplotlib.lines.Line2D at 0x11c0a7978>,\n",
       " <matplotlib.lines.Line2D at 0x11c0a7ac8>,\n",
       " <matplotlib.lines.Line2D at 0x11c0825c0>,\n",
       " <matplotlib.lines.Line2D at 0x11c0a7d30>]"
      ]
     },
     "execution_count": 118,
     "metadata": {},
     "output_type": "execute_result"
    },
    {
     "data": {
      "image/png": "[encoded data removed]",
      "text/plain": [
       "<matplotlib.figure.Figure at 0x11bc33cf8>"
      ]
     },
     "metadata": {},
     "output_type": "display_data"
    }
   ],
   "source": [
    "plt.plot(model.layers[0].get_weights()[0])"
   ]
  },
  {
   "cell_type": "code",
   "execution_count": 114,
   "metadata": {},
   "outputs": [
    {
     "name": "stdout",
     "output_type": "stream",
     "text": [
      "550/550 [==============================] - 0s 28us/step\n",
      "218/218 [==============================] - 0s 32us/step\n",
      "train acc= 0.721818181601  test acc= 0.715596328635\n"
     ]
    }
   ],
   "source": [
    "#evaluate the model \n",
    "s_train = model.evaluate(X_train, y_train)\n",
    "s_test = model.evaluate(X_test, y_test)\n",
    "print('train acc=' , s_train[1], ' test acc=', s_test[1])"
   ]
  },
  {
   "cell_type": "code",
   "execution_count": 29,
   "metadata": {},
   "outputs": [
    {
     "data": {
      "text/plain": [
       "()"
      ]
     },
     "execution_count": 29,
     "metadata": {},
     "output_type": "execute_result"
    }
   ],
   "source": [
    "y_test.shape"
   ]
  },
  {
   "cell_type": "markdown",
   "metadata": {},
   "source": [
    "<a id='references'></a>\n",
    "### References and Where to Learning More\n",
    "\n",
    "* Most of this introduction is based on the book [Deep Learning with Python](https://www.manning.com/books/deep-learning-with-python) written by the author of Keras. It is a very practical introduction to Deep Learning. It is appropriate for those with some Python knowledge who want to start with machine learning.\n",
    "* [Deep Learning Book](http://www.deeplearningbook.org/) is a theoretical book in three parts: 1) The mathematical\n",
    "basis for Deep Learning, 2) Modern Practice Deep Networks, 3) Deep Learning Research. It is a good second book after getting some practical initial experience.\n",
    "* https://machinelearningmastery.com/deep-learning-with-python/ \n",
    "\n",
    "We also recommend Andrew Ng's online course: https://www.deeplearning.ai/\n",
    "\n",
    "Harvard FAS has the following undergraduate and graduate level machine learning courses:\n",
    "* [CS109 Introduction to Data Science](https://github.com/cs109). Two semester intensive course on data science including machine learning. Also offered through the Extension School (see below).\n",
    "* [CS181: Machine Learning](https://harvard-ml-courses.github.io/cs181-web-2017/)\n",
    "* [CS281: Advanced Machine Learning](https://harvard-ml-courses.github.io/cs281-web/)\n",
    "* CS282R: Topics in Machine Learning. Graduate level exploration of machine learning. Topics vary \n",
    "every iteration.\n",
    "* [CS287: Natural Language Processing](https://github.com/harvard-ml-courses/cs287-s18)\n",
    "\n"
   ]
  },
  {
   "cell_type": "code",
   "execution_count": null,
   "metadata": {
    "collapsed": true
   },
   "outputs": [],
   "source": []
  }
 ],
 "metadata": {
  "kernelspec": {
   "display_name": "Python 3",
   "language": "python",
   "name": "python3"
  },
  "language_info": {
   "codemirror_mode": {
    "name": "ipython",
    "version": 3
   },
   "file_extension": ".py",
   "mimetype": "text/x-python",
   "name": "python",
   "nbconvert_exporter": "python",
   "pygments_lexer": "ipython3",
   "version": "3.6.3"
  }
 },
 "nbformat": 4,
 "nbformat_minor": 2
}
